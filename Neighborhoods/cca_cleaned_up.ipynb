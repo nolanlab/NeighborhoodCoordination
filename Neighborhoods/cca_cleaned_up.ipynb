{
 "cells": [
  {
   "cell_type": "code",
   "execution_count": 1,
   "metadata": {},
   "outputs": [
    {
     "name": "stdout",
     "output_type": "stream",
     "text": [
      "Populating the interactive namespace from numpy and matplotlib\n"
     ]
    }
   ],
   "source": [
    "import numpy as np\n",
    "import pandas as pd\n",
    "from matplotlib import pyplot as plt\n",
    "from scipy.stats import pearsonr,spearmanr\n",
    "import itertools\n",
    "from sklearn.cross_decomposition import CCA\n",
    "import networkx as nx\n",
    "import seaborn as sns\n",
    "%pylab inline"
   ]
  },
  {
   "cell_type": "code",
   "execution_count": 69,
   "metadata": {},
   "outputs": [],
   "source": [
    "cells = pd.read_pickle('cells2_salil')\n",
    "patient_to_group_dict = cells.loc[:,['patients','groups']].drop_duplicates().set_index('patients').to_dict()['groups']\n",
    "group1_patients = [a for a,gp in patient_to_group_dict.items() if gp==1]\n",
    "group2_patients = [a for a,gp in patient_to_group_dict.items() if gp==2]"
   ]
  },
  {
   "cell_type": "code",
   "execution_count": 70,
   "metadata": {},
   "outputs": [],
   "source": [
    "# select which neighborhoods and functional subsets\n",
    "cns = [0,2,3,4,5,6,7,8,9]\n",
    "subsets = ['CD8+ICOS+','CD8+Ki67+','CD8+PD-1+','Treg-Ki67+']"
   ]
  },
  {
   "cell_type": "code",
   "execution_count": 71,
   "metadata": {},
   "outputs": [],
   "source": [
    "#log (1e-3 +  neighborhood specific cell type frequency) of functional subsets) ('nsctf')\n",
    "nsctf = np.log(1e-3 + cells.groupby(['patients','neighborhood10'])[subsets].mean().reset_index().set_index(['neighborhood10','patients']))"
   ]
  },
  {
   "cell_type": "markdown",
   "metadata": {},
   "source": [
    "# CCA relative to permutations for group1"
   ]
  },
  {
   "cell_type": "code",
   "execution_count": 76,
   "metadata": {},
   "outputs": [],
   "source": [
    "cca = CCA(n_components=1,max_iter = 5000)\n",
    "func = pearsonr\n",
    "\n",
    "# set number of permutation params\n",
    "n_perms = 5000\n",
    "stats_group1 = {}\n",
    "\n",
    "for cn_i in cns:\n",
    "    for cn_j in cns:\n",
    "        if cn_i < cn_j:\n",
    "\n",
    "            #concat dfs\n",
    "            combined = pd.concat([nsctf.loc[cn_i].loc[group1_patients],nsctf.loc[cn_j].loc[group1_patients]], axis = 1).dropna(axis = 0, how = 'any')\n",
    "            x = combined.iloc[:,:len(subsets)].values\n",
    "            y = combined.iloc[:,len(subsets):].values\n",
    "\n",
    "            arr = np.zeros(n_perms)\n",
    "\n",
    "            #compute the canonical correlation achieving components with respect to observed data\n",
    "            ccx,ccy = cca.fit_transform(x,y)\n",
    "            stats_group1[cn_i,cn_j] = (pearsonr(ccx[:,0],ccy[:,0])[0],arr)\n",
    "\n",
    "            #initialize array for perm values\n",
    "\n",
    "            for i in range(n_perms):\n",
    "                idx = np.arange(len(x))\n",
    "                np.random.shuffle(idx)\n",
    "                # compute with permuted data\n",
    "                cc_permx,cc_permy = cca.fit_transform(x[idx],y)\n",
    "                arr[i] = pearsonr(cc_permx[:,0],cc_permy[:,0])[0]\n",
    "\n",
    "\n",
    "\n"
   ]
  },
  {
   "cell_type": "markdown",
   "metadata": {},
   "source": [
    "### visualization"
   ]
  },
  {
   "cell_type": "code",
   "execution_count": 96,
   "metadata": {},
   "outputs": [
    {
     "data": {
      "image/png": "[encoded data removed]",
      "text/plain": [
       "<Figure size 432x288 with 1 Axes>"
      ]
     },
     "metadata": {
      "needs_background": "light"
     },
     "output_type": "display_data"
    }
   ],
   "source": [
    "g1 = nx.Graph()\n",
    "for cn_pair, cc in stats_group1.items():\n",
    "    s,t = cn_pair\n",
    "    obs, perms = cc\n",
    "    p =np.mean(obs>perms)\n",
    "    if p>0.9 :\n",
    "        g1.add_edge(s,t, weight = p)\n",
    "    \n",
    "    \n",
    "pal = sns.color_palette('bright',10)\n",
    "dash = {True: '-', False: ':'}\n",
    "pos=nx.drawing.nx_pydot.pydot_layout(g1,prog='neato')\n",
    "for k,v in pos.items():\n",
    "    x,y = v\n",
    "    plt.scatter([x],[y],c = [pal[k]], s = 200,zorder = 3)\n",
    "    plt.text(x,y, k, fontsize = 10, zorder = 10,ha = 'center', va = 'center')\n",
    "\n",
    "\n",
    "atrs = nx.get_edge_attributes(g1, 'weight')    \n",
    "for e0,e1 in g1.edges():\n",
    "    p = atrs[e0,e1]\n",
    "    plt.plot([pos[e0][0],pos[e1][0]],[pos[e0][1],pos[e1][1]], c= 'black',alpha = 3*p**3,linewidth = 3*p**3)\n"
   ]
  },
  {
   "cell_type": "markdown",
   "metadata": {},
   "source": [
    "# CCA relative to permutations for group2"
   ]
  },
  {
   "cell_type": "code",
   "execution_count": 77,
   "metadata": {},
   "outputs": [],
   "source": [
    "cca = CCA(n_components=1,max_iter = 5000)\n",
    "func = pearsonr\n",
    "\n",
    "# set number of permutation params\n",
    "n_perms = 5000\n",
    "stats_group2 = {}\n",
    "\n",
    "for cn_i in cns:\n",
    "    for cn_j in cns:\n",
    "        if cn_i < cn_j:\n",
    "\n",
    "            #concat dfs\n",
    "            combined = pd.concat([nsctf.loc[cn_i].loc[group2_patients],nsctf.loc[cn_j].loc[group2_patients]], axis = 1).dropna(axis = 0, how = 'any')\n",
    "            x = combined.iloc[:,:len(subsets)].values\n",
    "            y = combined.iloc[:,len(subsets):].values\n",
    "\n",
    "            arr = np.zeros(n_perms)\n",
    "\n",
    "            #compute the canonical correlation achieving components\n",
    "            ccx,ccy = cca.fit_transform(x,y)\n",
    "            stats_group2[cn_i,cn_j] = (pearsonr(ccx[:,0],ccy[:,0])[0],arr)\n",
    "\n",
    "            #initialize array for perm values\n",
    "\n",
    "            for i in range(n_perms):\n",
    "                idx = np.arange(len(x))\n",
    "                np.random.shuffle(idx)\n",
    "                cc_permx,cc_permy = cca.fit_transform(x[idx],y)\n",
    "                arr[i] = pearsonr(cc_permx[:,0],cc_permy[:,0])[0]\n",
    "\n",
    "\n",
    "\n"
   ]
  },
  {
   "cell_type": "markdown",
   "metadata": {},
   "source": [
    "### visualization"
   ]
  },
  {
   "cell_type": "code",
   "execution_count": 97,
   "metadata": {},
   "outputs": [
    {
     "data": {
      "image/png": "[encoded data removed]",
      "text/plain": [
       "<Figure size 432x288 with 1 Axes>"
      ]
     },
     "metadata": {
      "needs_background": "light"
     },
     "output_type": "display_data"
    }
   ],
   "source": [
    "g2 = nx.Graph()\n",
    "for cn_pair, cc in stats_group2.items():\n",
    "    s,t = cn_pair\n",
    "    obs, perms = cc\n",
    "    p =np.mean(obs>perms)\n",
    "    if p>0.9 :\n",
    "        g2.add_edge(s,t, weight = p)\n",
    "    \n",
    "    \n",
    "pal = sns.color_palette('bright',10)\n",
    "dash = {True: '-', False: ':'}\n",
    "pos=nx.drawing.nx_pydot.pydot_layout(g2,prog='neato')\n",
    "for k,v in pos.items():\n",
    "    x,y = v\n",
    "    plt.scatter([x],[y],c = [pal[k]], s = 200,zorder = 3)\n",
    "    plt.text(x,y, k, fontsize = 10, zorder = 10,ha = 'center', va = 'center')\n",
    "\n",
    "\n",
    "atrs = nx.get_edge_attributes(g2, 'weight')    \n",
    "for e0,e1 in g2.edges():\n",
    "    p = atrs[e0,e1]\n",
    "    plt.plot([pos[e0][0],pos[e1][0]],[pos[e0][1],pos[e1][1]], c= 'black',alpha = 3*p**3,linewidth = 3*p**3)\n"
   ]
  },
  {
   "cell_type": "code",
   "execution_count": null,
   "metadata": {},
   "outputs": [],
   "source": []
  }
 ],
 "metadata": {
  "kernelspec": {
   "display_name": "Python 3",
   "language": "python",
   "name": "python3"
  },
  "language_info": {
   "codemirror_mode": {
    "name": "ipython",
    "version": 3
   },
   "file_extension": ".py",
   "mimetype": "text/x-python",
   "name": "python",
   "nbconvert_exporter": "python",
   "pygments_lexer": "ipython3",
   "version": "3.7.4"
  }
 },
 "nbformat": 4,
 "nbformat_minor": 4
}
