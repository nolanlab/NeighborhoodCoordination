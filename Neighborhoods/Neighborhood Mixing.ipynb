{
 "cells": [
  {
   "cell_type": "code",
   "execution_count": null,
   "metadata": {
    "collapsed": true
   },
   "outputs": [],
   "source": [
    "\"\"\"\n",
    "Code for computing the amount of shared surface area between two neighborhoods\n",
    "'cells2': Main dataframe output by neighborhoodtemplate with x,y,clusterID, and neighborhood allocation\n",
    "\"\"\""
   ]
  },
  {
   "cell_type": "code",
   "execution_count": 1,
   "metadata": {
    "collapsed": true
   },
   "outputs": [],
   "source": [
    "import pandas as pd\n",
    "import numpy as np\n",
    "from sklearn.neighbors import NearestNeighbors\n",
    "import seaborn as sns\n",
    "from matplotlib import pyplot as plt\n",
    "%matplotlib inline\n",
    "cells2 = pd.read_pickle('main_fcs')"
   ]
  },
  {
   "cell_type": "code",
   "execution_count": 2,
   "metadata": {
    "collapsed": true
   },
   "outputs": [],
   "source": [
    "tissue_col = 'spots'\n",
    "neigh_col = 'neighborhood10'\n",
    "patient_col = 'patients'\n",
    "group_col = 'groups'\n",
    "X = 'X:X'\n",
    "Y = 'Y:Y'"
   ]
  },
  {
   "cell_type": "code",
   "execution_count": 3,
   "metadata": {},
   "outputs": [],
   "source": [
    "# calculate neighbors for each spot\n",
    "for spot in cells2[tissue_col].unique():\n",
    "    tissue =cells2[cells2[tissue_col]==spot]\n",
    "    fit =  NearestNeighbors(n_neighbors=1).fit(tissue[[X,Y]].values)\n",
    "    m = fit.kneighbors()[1]\n",
    "    \n",
    "    cells2.loc[tissue.index,'neigh_neigh'] = tissue.iloc[m[:,0],:][neigh_col].values\n",
    "cells2['neigh_neigh'] = cells2['neigh_neigh'].astype(int)   "
   ]
  },
  {
   "cell_type": "code",
   "execution_count": 4,
   "metadata": {
    "collapsed": true
   },
   "outputs": [],
   "source": [
    "#compute for each patient, in each tissue and neighborhood, the number of cells in that neighborhoood\n",
    "counts = cells2.groupby([group_col,patient_col,tissue_col,neigh_col]).apply(lambda x: len(x)).unstack()\n",
    "\n",
    "#compute for each patient, in each tissue and neighborhood:  the count of how many of the cells in that neighborhood are next to a cell in the other neighborhood\n",
    "neighs = cells2.groupby([group_col,patient_col,tissue_col,neigh_col]).apply(lambda x:x['neigh_neigh'].value_counts(sort = False)).unstack()\n",
    "\n"
   ]
  },
  {
   "cell_type": "code",
   "execution_count": 5,
   "metadata": {
    "collapsed": true
   },
   "outputs": [],
   "source": [
    "#specify which neighborhoods you want to calculate\n",
    "neigh1,neigh2 = 0,4"
   ]
  },
  {
   "cell_type": "code",
   "execution_count": 6,
   "metadata": {
    "scrolled": true
   },
   "outputs": [],
   "source": [
    "# Comment out if you wish to average each spot for each patient\n",
    "N = neighs.sum(level = [group_col,patient_col,neigh_col])\n",
    "N[tissue_col] = [i[1] for i in N.index]\n",
    "neighs = N.set_index(tissue_col,append = True).reorder_levels([group_col,patient_col,tissue_col,neigh_col])"
   ]
  },
  {
   "cell_type": "code",
   "execution_count": 7,
   "metadata": {},
   "outputs": [],
   "source": [
    "# index the values for the neighborhoods of interest\n",
    "ix = pd.IndexSlice\n",
    "\n",
    "#take the mean between the number of cells in neigh 1 that touch neigh2 and the number of cells in neigh2 that touch neigh1 \n",
    "#as not necessarily symmetric\n",
    "inters = pd.concat([neighs.loc[ix[:,:,:,[neigh1]],[neigh2]],neighs.loc[ix[:,:,:,[neigh2]],[neigh1]]],1).mean(level = [group_col,patient_col,tissue_col]).mean(1)\n",
    "\n",
    "#calculate the total number of cells in both neighborhoods\n",
    "wholes = neighs.sum(1).loc[ix[:,:,:,[neigh2,neigh1]]].unstack().sum(1)\n",
    "\n",
    "combo = pd.concat([inters,wholes],1).dropna((0))\n",
    "combo['ratio'] = combo[0]/combo[1]\n",
    "combo = combo.rename(columns = {0:'neighboring',1:'union',2:'ratio'})\n",
    "\n",
    "combo = combo.reset_index()\n"
   ]
  },
  {
   "cell_type": "code",
   "execution_count": 8,
   "metadata": {},
   "outputs": [
    {
     "data": {
      "image/png": "[encoded data removed]",
      "text/plain": [
       "<matplotlib.figure.Figure at 0x1171d68d0>"
      ]
     },
     "metadata": {},
     "output_type": "display_data"
    }
   ],
   "source": [
    "c = combo.reset_index()\n",
    "sns.stripplot(data = c, x = group_col, y ='ratio')\n",
    "plt.show()"
   ]
  },
  {
   "cell_type": "code",
   "execution_count": 9,
   "metadata": {},
   "outputs": [],
   "source": [
    "a = c[c[group_col]==1]['ratio']"
   ]
  },
  {
   "cell_type": "code",
   "execution_count": 10,
   "metadata": {
    "collapsed": true
   },
   "outputs": [],
   "source": [
    "b = c[c[group_col]==2]['ratio']"
   ]
  },
  {
   "cell_type": "code",
   "execution_count": 11,
   "metadata": {},
   "outputs": [
    {
     "data": {
      "text/plain": [
       "Ttest_indResult(statistic=-2.0816172422774324, pvalue=0.045211049299440066)"
      ]
     },
     "execution_count": 11,
     "metadata": {},
     "output_type": "execute_result"
    }
   ],
   "source": [
    "from scipy import stats\n",
    "stats.ttest_ind(a, b)"
   ]
  },
  {
   "cell_type": "code",
   "execution_count": null,
   "metadata": {
    "collapsed": true
   },
   "outputs": [],
   "source": []
  }
 ],
 "metadata": {
  "kernelspec": {
   "display_name": "Python 3",
   "language": "python",
   "name": "python3"
  },
  "language_info": {
   "codemirror_mode": {
    "name": "ipython",
    "version": 3
   },
   "file_extension": ".py",
   "mimetype": "text/x-python",
   "name": "python",
   "nbconvert_exporter": "python",
   "pygments_lexer": "ipython3",
   "version": "3.6.8"
  },
  "latex_envs": {
   "LaTeX_envs_menu_present": true,
   "autoclose": false,
   "autocomplete": true,
   "bibliofile": "biblio.bib",
   "cite_by": "apalike",
   "current_citInitial": 1,
   "eqLabelWithNumbers": true,
   "eqNumInitial": 1,
   "hotkeys": {
    "equation": "Ctrl-E",
    "itemize": "Ctrl-I"
   },
   "labels_anchors": false,
   "latex_user_defs": false,
   "report_style_numbering": false,
   "user_envs_cfg": false
  }
 },
 "nbformat": 4,
 "nbformat_minor": 2
}
